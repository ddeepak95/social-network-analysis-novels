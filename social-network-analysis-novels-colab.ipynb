{
 "cells": [
  {
   "cell_type": "markdown",
   "metadata": {},
   "source": [
    "# Install dependencies\n",
    "\n",
    "Do it only for Google Colab. Otherwise, the dependencies will be installed in the local machine."
   ]
  },
  {
   "cell_type": "code",
   "execution_count": null,
   "metadata": {},
   "outputs": [],
   "source": [
    "# Clone the repo and move into it\n",
    "!git clone https://github.com/ddeepak95/social-network-analysis-novels.git\n",
    "%cd social-network-analysis-novels\n",
    "%pip install ebooklib\n",
    "%pip install networkx\n",
    "%pip install matplotlib\n",
    "%pip install numpy\n",
    "%pip install beautifulsoup4\n",
    "%pip install html2text\n",
    "%pip install spacy\n",
    "%pip install textblob\n",
    "%pip install wordcloud\n",
    "%pip install tabulate\n",
    "%pip install python-louvain\n",
    "%pip install pandas\n",
    "!python -m spacy download en_core_web_trf"
   ]
  },
  {
   "cell_type": "markdown",
   "metadata": {},
   "source": [
    "# Setting up\n",
    "Upload the book epub file inside the `social-network-analysis-novels` directory and update the `epub_path` variable with the correct filename."
   ]
  },
  {
   "cell_type": "code",
   "execution_count": 1,
   "metadata": {},
   "outputs": [],
   "source": [
    "# Enter book name here\n",
    "epub_path = \"./book.epub\""
   ]
  },
  {
   "cell_type": "markdown",
   "metadata": {},
   "source": [
    "# Import dependencies"
   ]
  },
  {
   "cell_type": "code",
   "execution_count": 3,
   "metadata": {},
   "outputs": [],
   "source": [
    "import os\n",
    "import json\n",
    "import spacy\n",
    "from utils.epub_functions import create_flattened_book_json, html_to_markdown\n",
    "from utils.nlp_functions import extract_character_names_with_variations, character_counter, plot_character_wordcloud, bar_plot_character_counts, extract_character_interactions\n",
    "from utils.network_functions import plot_character_network_with_layout, plot_ego_network, summarize_character_network"
   ]
  },
  {
   "cell_type": "markdown",
   "metadata": {},
   "source": [
    "# Extract contents from Epub"
   ]
  },
  {
   "cell_type": "code",
   "execution_count": null,
   "metadata": {},
   "outputs": [],
   "source": [
    "working_folder = \"data\"\n",
    "os.makedirs(working_folder, exist_ok=True)\n",
    "\n",
    "output_json = os.path.join(working_folder, \"book_content.json\")\n",
    "flattened_json_path = create_flattened_book_json(epub_path, output_json)\n",
    "print(f\"Created flattened book content JSON at: {flattened_json_path}\")"
   ]
  },
  {
   "cell_type": "markdown",
   "metadata": {},
   "source": [
    "# Verify the book content and the titles of the sections in the book file"
   ]
  },
  {
   "cell_type": "code",
   "execution_count": null,
   "metadata": {},
   "outputs": [],
   "source": [
    "# See the titles of the sections in the book file\n",
    "\n",
    "with open(flattened_json_path, 'r', encoding='utf-8') as f:\n",
    "    book_content = json.load(f)\n",
    "\n",
    "for i, section in enumerate(book_content):\n",
    "    print(f\"Index {i}: {section['title']}\")\n"
   ]
  },
  {
   "cell_type": "markdown",
   "metadata": {},
   "source": [
    "## Extract character names with variations"
   ]
  },
  {
   "cell_type": "code",
   "execution_count": 6,
   "metadata": {},
   "outputs": [],
   "source": [
    "# set the start chapter and end chapter based on the chapter index printed above\n",
    "\n",
    "start_chapter = 7\n",
    "end_chapter = 90\n",
    "character_names_loc = f\"{working_folder}/character_names.json\""
   ]
  },
  {
   "cell_type": "code",
   "execution_count": null,
   "metadata": {},
   "outputs": [],
   "source": [
    "# IMPORTANT: If the character names json file already exists, it will be overwritten. Don't run this cell if the file already exists.\n",
    "\n",
    "if os.path.exists(character_names_loc):\n",
    "    response = input(f\"File {character_names_loc} already exists. Overwrite? (y/n): \")\n",
    "    if response.lower() == 'y':\n",
    "        extract_character_names_with_variations(book_content, character_names_loc, start_chapter, end_chapter)\n",
    "        print(f\"Overwrote {character_names_loc}\")\n",
    "    else:\n",
    "        print(\"Skipping extraction - using existing file\")\n",
    "else:\n",
    "    extract_character_names_with_variations(book_content, character_names_loc, start_chapter, end_chapter)\n",
    "    print(f\"Created {character_names_loc}\")"
   ]
  },
  {
   "cell_type": "markdown",
   "metadata": {},
   "source": [
    "# IMPORTANT: Verify the character names json file to ensure that the character names are correct.\n",
    "After extracting character names, edit the character names json file to add variations for each character. This is important for correct social network creation. The character names file can be found inside the data folder."
   ]
  },
  {
   "cell_type": "markdown",
   "metadata": {},
   "source": [
    "# Start Analysis"
   ]
  },
  {
   "cell_type": "code",
   "execution_count": 7,
   "metadata": {},
   "outputs": [],
   "source": [
    "full_book_text = \"\"\n",
    "for chapter in book_content[start_chapter:end_chapter+1]:\n",
    "    full_book_text += html_to_markdown(chapter[\"content\"])\n",
    "\n"
   ]
  },
  {
   "cell_type": "markdown",
   "metadata": {},
   "source": [
    "# Character Counter"
   ]
  },
  {
   "cell_type": "code",
   "execution_count": 8,
   "metadata": {},
   "outputs": [],
   "source": [
    "character_counter_loc = f\"{working_folder}/character_counter.json\""
   ]
  },
  {
   "cell_type": "code",
   "execution_count": null,
   "metadata": {},
   "outputs": [],
   "source": [
    "with open(character_names_loc, \"r\", encoding=\"utf-8\") as f:\n",
    "    character_names = json.load(f)\n",
    "\n",
    "character_counter(full_book_text, character_names, character_counter_loc)"
   ]
  },
  {
   "cell_type": "code",
   "execution_count": null,
   "metadata": {},
   "outputs": [],
   "source": [
    "character_counter_data = json.load(open(character_counter_loc, \"r\", encoding=\"utf-8\"))\n",
    "plot_character_wordcloud(character_counter_data, scale_type='linear', top_n=20)\n"
   ]
  },
  {
   "cell_type": "code",
   "execution_count": null,
   "metadata": {},
   "outputs": [],
   "source": [
    "bar_plot_character_counts(character_counter_data)"
   ]
  },
  {
   "cell_type": "markdown",
   "metadata": {},
   "source": [
    "# Generate Character Interactions\n",
    "\n",
    "Character Interactions data is needed for generating the social networks of the characters. We will use spacy to generate the character interactions based on the cooccurence of the character names in a line or a paragraph (based on our preference)."
   ]
  },
  {
   "cell_type": "code",
   "execution_count": 10,
   "metadata": {},
   "outputs": [],
   "source": [
    "character_interactions_loc = f\"{working_folder}/character_interactions.json\""
   ]
  },
  {
   "cell_type": "code",
   "execution_count": null,
   "metadata": {},
   "outputs": [],
   "source": [
    "extract_character_interactions(\n",
    "    character_variations_path=character_names_loc,\n",
    "    book_content=full_book_text,\n",
    "    output_path=character_interactions_loc,\n",
    "    granularity=\"line\"  # or \"para\" for extracting interactions based on paragraphs\n",
    ")"
   ]
  },
  {
   "cell_type": "markdown",
   "metadata": {},
   "source": [
    "# Network Analysis"
   ]
  },
  {
   "cell_type": "code",
   "execution_count": 16,
   "metadata": {},
   "outputs": [],
   "source": [
    "# Set thresholds for filtering the character co-occurrence network:\n",
    "# - min_cooccurrence: minimum number of times two characters must appear together to be considered connected\n",
    "# - min_character_degree: minimum number of connections (edges) a character must have to be included in the analysis\n",
    "\n",
    "min_cooccurrence = 3\n",
    "min_character_degree = 2\n"
   ]
  },
  {
   "cell_type": "markdown",
   "metadata": {},
   "source": [
    "## Overall Character Social Network Plot"
   ]
  },
  {
   "cell_type": "code",
   "execution_count": null,
   "metadata": {},
   "outputs": [],
   "source": [
    "# read interactions data\n",
    "interactions_data = json.load(open(character_interactions_loc, \"r\", encoding=\"utf-8\"))\n",
    "# plot character network\n",
    "plot_character_network_with_layout(interactions_data, min_character_degree=min_character_degree, min_cooccurrence=min_cooccurrence, focus_top_n=True, top_n_labels=25)"
   ]
  },
  {
   "cell_type": "markdown",
   "metadata": {},
   "source": [
    "## Social Network Plot Specific to a particular character"
   ]
  },
  {
   "cell_type": "code",
   "execution_count": null,
   "metadata": {},
   "outputs": [],
   "source": [
    "plot_ego_network(interactions_data, \"Digby Kilgour\", label_size=5, min_cooccurrence=min_cooccurrence, min_character_degree=min_character_degree)"
   ]
  },
  {
   "cell_type": "markdown",
   "metadata": {},
   "source": [
    "## Detailed Social Network Analysis Information pertaining to Centrality"
   ]
  },
  {
   "cell_type": "code",
   "execution_count": null,
   "metadata": {},
   "outputs": [],
   "source": [
    "summarize_character_network(interactions_data, min_cooccurrence=min_cooccurrence, min_character_degree=min_character_degree)"
   ]
  }
 ],
 "metadata": {
  "kernelspec": {
   "display_name": ".venv",
   "language": "python",
   "name": "python3"
  },
  "language_info": {
   "codemirror_mode": {
    "name": "ipython",
    "version": 3
   },
   "file_extension": ".py",
   "mimetype": "text/x-python",
   "name": "python",
   "nbconvert_exporter": "python",
   "pygments_lexer": "ipython3",
   "version": "3.11.9"
  }
 },
 "nbformat": 4,
 "nbformat_minor": 2
}
